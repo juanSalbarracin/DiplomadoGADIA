{
  "nbformat": 4,
  "nbformat_minor": 0,
  "metadata": {
    "colab": {
      "provenance": [],
      "authorship_tag": "ABX9TyMmckGAUiogGfyDGzue5mux",
      "include_colab_link": true
    },
    "kernelspec": {
      "name": "python3",
      "display_name": "Python 3"
    },
    "language_info": {
      "name": "python"
    }
  },
  "cells": [
    {
      "cell_type": "markdown",
      "metadata": {
        "id": "view-in-github",
        "colab_type": "text"
      },
      "source": [
        "<a href=\"https://colab.research.google.com/github/juanSalbarracin/DiplomadoGADIA/blob/main/Funciones_class1.ipynb\" target=\"_parent\"><img src=\"https://colab.research.google.com/assets/colab-badge.svg\" alt=\"Open In Colab\"/></a>"
      ]
    },
    {
      "cell_type": "code",
      "execution_count": null,
      "metadata": {
        "id": "5gtkhm2TbL-Q"
      },
      "outputs": [],
      "source": []
    },
    {
      "cell_type": "markdown",
      "source": [
        "##CONDICIONALES, FUNCIONES Y MANEJO DE ERRORES\n",
        "\n",
        "DIPLOMADO EN GOBIERNO Y ANALITICA DE DATOS\n",
        "\n",
        "FUNDACION UNIVERSITARIA CAFAM\n",
        "\n",
        "DOCENTE: NICOLAS MOJICA GOMEZ\n",
        "\n",
        "ESTUDIANTE: JUAN SEBASTIAN ALBARRACIN"
      ],
      "metadata": {
        "id": "9JHwwawYbOmv"
      }
    },
    {
      "cell_type": "code",
      "source": [
        "# Las condicionales python permiten tomar desiciones en el codigo basadas en ciertas condiciones, son fundamentales para controlar el flujo de ejecucion.\n",
        "edad= 18\n",
        "#crear una condicional que identifique si la persona es mayor o menor de edad\n",
        "if edad <18 :\n",
        "  print(\"Eres menor de edad\")\n",
        "else :\n",
        "  print(\"Eres mayor de edad\")"
      ],
      "metadata": {
        "colab": {
          "base_uri": "https://localhost:8080/"
        },
        "id": "4PmTm02bbZMr",
        "outputId": "e1ec63e3-0841-4159-9ec0-18c223850a98"
      },
      "execution_count": null,
      "outputs": [
        {
          "output_type": "stream",
          "name": "stdout",
          "text": [
            "Eres mayor de edad\n"
          ]
        }
      ]
    },
    {
      "cell_type": "code",
      "source": [
        "#Generar un programa que clasifique la edad introducida por el usuario entre mayor y menor de edad\n",
        "edad = int(input(\"Por favor ingresa tu edad\"))\n",
        "if edad <18 :\n",
        "  print(\"Eres menor de edad\")\n",
        "else :\n",
        "  print(\"Eres mayor de edad\")"
      ],
      "metadata": {
        "colab": {
          "base_uri": "https://localhost:8080/"
        },
        "id": "u9cEVRHrctll",
        "outputId": "17e94a84-8613-41a4-cb07-509e45f162e8"
      },
      "execution_count": null,
      "outputs": [
        {
          "output_type": "stream",
          "name": "stdout",
          "text": [
            "Por favor ingresa tu edad 30\n",
            "Eres mayor de edad\n"
          ]
        }
      ]
    },
    {
      "cell_type": "code",
      "source": [
        "#Construya un programa que al ingresar la nota del usuario lo clasifique en:\n",
        "#No aprobado <60, >=90 Clasificacion A, >=80 Clasificacion B, otra Clasificacion C\n",
        "nota = int (input(\"Ingrese la nota\"))\n",
        "if nota >=60:\n",
        " if nota >=90:\n",
        "  print(\"Clasificacion A\")\n",
        " elif nota>= 80:\n",
        "  print(\"Clasificacion B\")\n",
        " else :\n",
        "  print(\"Clasificacion C\")\n",
        "else :\n",
        "  print(\"No aprobado\")"
      ],
      "metadata": {
        "colab": {
          "base_uri": "https://localhost:8080/"
        },
        "id": "NUiVDvhsdhzU",
        "outputId": "11ac4481-6d75-4ed7-f5be-c055347054c0"
      },
      "execution_count": null,
      "outputs": [
        {
          "output_type": "stream",
          "name": "stdout",
          "text": [
            "Ingrese la nota 70\n",
            "Clasificacion C\n"
          ]
        }
      ]
    },
    {
      "cell_type": "code",
      "source": [
        "\"\"\"\n",
        "operadores de condicionadores\n",
        "Comparaciones\n",
        "Las condiciones en las sentencias condicionales suelen involucrar operadores de comparación:\n",
        "\n",
        "- == (igual a)\n",
        "- != (diferente de)\n",
        "- > (mayor que)\n",
        "- < (menor que)\n",
        "- >= (mayor o igual que)\n",
        "- <= (menor o igual que)\n",
        "\"\"\"\n"
      ],
      "metadata": {
        "colab": {
          "base_uri": "https://localhost:8080/",
          "height": 53
        },
        "id": "N6btiGTIhXSk",
        "outputId": "83ab388a-126c-4867-fd69-6c131ddc5334"
      },
      "execution_count": null,
      "outputs": [
        {
          "output_type": "execute_result",
          "data": {
            "text/plain": [
              "'\\noperadores de condicionadores \\nComparaciones\\nLas condiciones en las sentencias condicionales suelen involucrar operadores de comparación:\\n \\n- == (igual a)\\n- != (diferente de)\\n- > (mayor que)\\n- < (menor que)\\n- >= (mayor o igual que)\\n- <= (menor o igual que)\\n'"
            ],
            "application/vnd.google.colaboratory.intrinsic+json": {
              "type": "string"
            }
          },
          "metadata": {},
          "execution_count": 8
        }
      ]
    },
    {
      "cell_type": "code",
      "source": [
        "# Escribe un programa que verifique si un número ingresado por el usuario es par o impar.\n",
        "\n",
        "#Positiva\n",
        "num = int(input(\"=> ingrsa un numero \"))\n",
        "if num%2 == 0:\n",
        "  print(\"//el numero ingresado es par. \")\n",
        "else :\n",
        "  print(\"//el numero ingresado es inpar \")\n",
        "\n",
        "#Negativa\n",
        "  num =\n",
        "\n"
      ],
      "metadata": {
        "id": "wzQacFOViZL-"
      },
      "execution_count": null,
      "outputs": []
    },
    {
      "cell_type": "code",
      "source": [
        "\"\"\"\n",
        "Crea un programa que lea dos números y determine cuál es mayor, cuál es menor o si ambos son iguales.\n",
        "\"\"\"\n",
        "\n",
        "num1 = int(input(\"-> Ingrese el primer número: \"))\n",
        "num2 = int(input(\"-> Ingrese el segundo número: \"))\n",
        "\n",
        "if num1 != num2:\n",
        "\n",
        "  if num1 > num2:\n",
        "    print(\"// El primer número es mayor que el segundo. Es decir, el segundo número es menor que el primero. \")\n",
        "  else:\n",
        "    print(\"// El segundo número es mayor que el primero. Es decir, el primer número es menor que el segundo. \")\n",
        "\n",
        "else:\n",
        "  print(\"// Los dos números son iguales. \")\n"
      ],
      "metadata": {
        "colab": {
          "base_uri": "https://localhost:8080/"
        },
        "id": "Qu4jaV4cludx",
        "outputId": "99181c60-f8c5-475c-e693-0e984b7ecc28"
      },
      "execution_count": null,
      "outputs": [
        {
          "output_type": "stream",
          "name": "stdout",
          "text": [
            "-> Ingrese el primer número: 2\n",
            "-> Ingrese el segundo número: 1\n",
            "// El primer número es mayor que el segundo. Es decir, el segundo número es menor que el primero. \n"
          ]
        }
      ]
    },
    {
      "cell_type": "code",
      "source": [
        "# Formato.\n",
        "num1 = int(input(\"-> Ingrese el primer número: \"))\n",
        "num2 = int(input(\"-> Ingrese el segundo número: \"))\n",
        "\n",
        "if num1 != num2:\n",
        "\n",
        "  if num1 > num2:\n",
        "    print(f\"// El número mayor es: {num1}\")\n",
        "  else:\n",
        "    print(f\"// El número mayor es: {num2} \")\n",
        "\n",
        "else:\n",
        "  print(f\"// Ambos números ingresados son el mismo: {num1}.\")\n"
      ],
      "metadata": {
        "colab": {
          "base_uri": "https://localhost:8080/"
        },
        "id": "7px6os6zlvZl",
        "outputId": "2a116a91-da64-4ce4-f9f7-de264ee4a788"
      },
      "execution_count": null,
      "outputs": [
        {
          "output_type": "stream",
          "name": "stdout",
          "text": [
            "-> Ingrese el primer número: 2\n",
            "-> Ingrese el segundo número: 2\n",
            "// Ambos números ingresados son el mismo: 2.\n"
          ]
        }
      ]
    },
    {
      "cell_type": "code",
      "source": [
        "# Positiva.\n",
        "num = int(input(\"-> Ingrese un número: \"))\n",
        "if num%2 == 0:\n",
        "  print(\"// El número ingresado es par. \")\n",
        "else:\n",
        "  print(\"// El número ingresado es impar. \")\n",
        "\n",
        "# Negativa.\n",
        "  num = int(input(\"-> Ingrese un número: \"))\n",
        "if num%2 != 0:\n",
        "  print(\"// El número ingresado es impar. \")\n",
        "else:\n",
        "  print(\"// El número ingresado es par. \")"
      ],
      "metadata": {
        "colab": {
          "base_uri": "https://localhost:8080/"
        },
        "id": "HJ12gu4GmKv5",
        "outputId": "494b39b2-b144-4047-eb6f-1a1d8a24cf47"
      },
      "execution_count": null,
      "outputs": [
        {
          "output_type": "stream",
          "name": "stdout",
          "text": [
            "-> Ingrese un número: 4\n",
            "// El número ingresado es par. \n",
            "// El número ingresado es par. \n"
          ]
        }
      ]
    },
    {
      "cell_type": "code",
      "source": [
        "#Escribe un programa que clasifique la edad en diferentes categorías: Niño (0-12 años), Adolescente (13-17 años), Adulto (18-64 años) y Anciano (65 años o más).\n"
      ],
      "metadata": {
        "id": "wjy39hVlmzx5"
      },
      "execution_count": null,
      "outputs": []
    },
    {
      "cell_type": "code",
      "source": [
        "# Funciones\n",
        "#bloques de codigos en python que pueden utilizar para ejecutar una tarea en especifico"
      ],
      "metadata": {
        "id": "_3uvEsi0tA7s"
      },
      "execution_count": null,
      "outputs": []
    },
    {
      "cell_type": "code",
      "source": [
        "#Tengo la función lineal y = mx+b\n",
        "#Deseo evaluar el valor de X = 5 en la función y=4x+7\n",
        "def funcion_lineal (x) :\n",
        "    variable = x\n",
        "    y=(4*variable)+7\n",
        "    z=print(f\"El valor de y es : {y}.\")\n",
        "    return z\n",
        "funcion_lineal(5)\n"
      ],
      "metadata": {
        "colab": {
          "base_uri": "https://localhost:8080/"
        },
        "id": "SL77CdSquBOh",
        "outputId": "2a8e801c-878c-4b11-b835-46200b3f065c"
      },
      "execution_count": null,
      "outputs": [
        {
          "output_type": "stream",
          "name": "stdout",
          "text": [
            "El valor de y es : 27.\n"
          ]
        }
      ]
    },
    {
      "cell_type": "code",
      "source": [],
      "metadata": {
        "id": "TgSXiF7tvbNd"
      },
      "execution_count": null,
      "outputs": []
    },
    {
      "cell_type": "code",
      "source": [],
      "metadata": {
        "id": "NrxDWAe9z6q_"
      },
      "execution_count": null,
      "outputs": []
    },
    {
      "cell_type": "code",
      "source": [
        "#Escribe una función que reciba la edad de una persona como parámetro y determine si la persona es mayor de edad (18 años o más) o menor de edad.\n"
      ],
      "metadata": {
        "id": "zrqKajLjz6dj"
      },
      "execution_count": null,
      "outputs": []
    },
    {
      "cell_type": "code",
      "source": [
        "#Con Prints\n",
        "\n",
        "def verificar_mayoria_edad(edad):\n",
        "    if edad < 0:\n",
        "        print (\"Edad no válida\")\n",
        "    elif edad >= 18:\n",
        "        print(\"Eres mayor de edad.\")\n",
        "    else:\n",
        "        print(\"Eres menor de edad.\")"
      ],
      "metadata": {
        "id": "t96aYwoyz969"
      },
      "execution_count": null,
      "outputs": []
    },
    {
      "cell_type": "code",
      "source": [
        "#Con Returns\n",
        "def verificar_mayoria_edad(edad):\n",
        "    if edad < 0:\n",
        "        return \"Edad no válida\"\n",
        "    elif edad >= 18:\n",
        "        return \"Eres mayor de edad.\"\n",
        "    else:\n",
        "        return \"Eres menor de edad.\""
      ],
      "metadata": {
        "id": "ixn7VMBm10Dz"
      },
      "execution_count": null,
      "outputs": []
    },
    {
      "cell_type": "code",
      "source": [
        "# Ejemplo de uso\n",
        "edad = int(input(\"Ingresa tu edad: \"))\n",
        "print(verificar_mayoria_edad(edad))"
      ],
      "metadata": {
        "colab": {
          "base_uri": "https://localhost:8080/"
        },
        "id": "mh8J3yL915Zv",
        "outputId": "8ef5232a-e33c-4373-ccf5-7e55145c8c8a"
      },
      "execution_count": null,
      "outputs": [
        {
          "output_type": "stream",
          "name": "stdout",
          "text": [
            "Ingresa tu edad: 13\n",
            "Eres menor de edad.\n"
          ]
        }
      ]
    },
    {
      "cell_type": "code",
      "source": [
        "# Defina una funcion que al ingresar su nombre lo salude\n",
        "#def nos permite definir el nombre de la funcion\n",
        "#posterior al def dentro de los parentesis colocamos la variable o parametros de la funcion\n",
        "#Finalizamos con : para empezar a declarar el calculo con las variables solicitadas\n",
        "\n",
        "def saludar(nombre):\n",
        "    print(\"Hola \" + nombre)\n",
        "\n",
        " #LLamar la funcion colocamos el nombre , y dentro de los parentesis la variable que queramos utilizar\n",
        "saludar(input(\"Ingrese su nombre: \"))"
      ],
      "metadata": {
        "colab": {
          "base_uri": "https://localhost:8080/"
        },
        "id": "fnuHIC-p19Yc",
        "outputId": "74d03205-46d2-4196-cb36-e188dc982a7e"
      },
      "execution_count": null,
      "outputs": [
        {
          "output_type": "stream",
          "name": "stdout",
          "text": [
            "Ingrese su nombre: juan\n",
            "Hola juan\n"
          ]
        }
      ]
    },
    {
      "cell_type": "code",
      "source": [
        "# Defina una funcion que al ingresar su nombre lo salude y determine si ud es mayor o menor de edad.\n",
        "\n",
        "def saludo():\n",
        "  nombre = input(\"-> Ingrese su nombre: \")\n",
        "  edad = int(input(\"-> Ingrese su edad: \"))\n",
        "  TipoEdad = \"\"\n",
        "\n",
        "  if edad >= 0:\n",
        "\n",
        "    if edad<18:\n",
        "      TipoEdad = \"Menor\"\n",
        "    else:\n",
        "      TipoEdad = \"Mayor\"\n",
        "\n",
        "  else:\n",
        "    print(\"// La edad no puede ser mayor a 0. \")\n",
        "    TipoEdad = \"[Edad ingresada inválida]\"\n",
        "\n",
        "  return f\"Hola, {nombre}! Usted es {TipoEdad} de edad.\"\n",
        "\n",
        "print(saludo())\n"
      ],
      "metadata": {
        "colab": {
          "base_uri": "https://localhost:8080/"
        },
        "id": "stiBJ6NHPFzL",
        "outputId": "7a309b27-f3d6-4c49-8dfc-5dc7c6b1d735"
      },
      "execution_count": null,
      "outputs": [
        {
          "output_type": "stream",
          "name": "stdout",
          "text": [
            "-> Ingrese su nombre: juan\n",
            "-> Ingrese su edad: 30\n",
            "Hola, juan! Usted es Mayor de edad.\n"
          ]
        }
      ]
    },
    {
      "cell_type": "code",
      "source": [
        "def saludo_edad(nombre,edad):\n",
        "\n",
        "    if edad >= 0:\n",
        "      if edad<18:\n",
        "        print(f\"Hola {nombre}, eres menor de edad\")\n",
        "      else:\n",
        "        print(f\"Hola {nombre}, eres mayor de edad\")\n",
        "    else:\n",
        "      print(\"La edad ingresada no es valida\")\n",
        "\n",
        "saludo_edad(str(input(\"Ingrese su nombre \")),int(input(\"Ingrese su edad: \")))"
      ],
      "metadata": {
        "colab": {
          "base_uri": "https://localhost:8080/"
        },
        "id": "Ln7PFT6XQmCJ",
        "outputId": "beb69863-b73f-4fda-ef81-0db41b25ad8d"
      },
      "execution_count": null,
      "outputs": [
        {
          "output_type": "stream",
          "name": "stdout",
          "text": [
            "Ingrese su nombre juan \n",
            "Ingrese su edad: 30\n",
            "Hola juan , eres mayor de edad\n"
          ]
        }
      ]
    },
    {
      "cell_type": "code",
      "source": [
        "# Descripción: Escribe una función que tome una contraseña y la verifique contra una contraseña predeterminada (\"secreta123\"). La función debe devolver si la contraseña es correcta o incorrecta.\n",
        "\n",
        "def verificar_contraseña(contraseña):\n",
        "    if contraseña == \"secreta123\":\n",
        "        return \"Contraseña correcta\"\n",
        "    else:\n",
        "        return \"Contraseña incorrecta\"\n",
        "\n",
        "verificar_contraseña(input(\"Escribe la contraseña: \"))\n"
      ],
      "metadata": {
        "colab": {
          "base_uri": "https://localhost:8080/",
          "height": 53
        },
        "id": "o_5twxczT8CO",
        "outputId": "f188fe65-c82c-43cb-adbb-b4fac0f8fa54"
      },
      "execution_count": null,
      "outputs": [
        {
          "name": "stdout",
          "output_type": "stream",
          "text": [
            "Escribe la contraseña: secreta123\n"
          ]
        },
        {
          "output_type": "execute_result",
          "data": {
            "text/plain": [
              "'Contraseña correcta'"
            ],
            "application/vnd.google.colaboratory.intrinsic+json": {
              "type": "string"
            }
          },
          "metadata": {},
          "execution_count": 19
        }
      ]
    },
    {
      "cell_type": "code",
      "source": [],
      "metadata": {
        "id": "j0uQPSNEVkWj"
      },
      "execution_count": null,
      "outputs": []
    }
  ]
}