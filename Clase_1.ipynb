{
  "nbformat": 4,
  "nbformat_minor": 0,
  "metadata": {
    "colab": {
      "provenance": []
    },
    "kernelspec": {
      "name": "python3",
      "display_name": "Python 3"
    },
    "language_info": {
      "name": "python"
    }
  },
  "cells": [
    {
      "cell_type": "markdown",
      "source": [
        "**INTRODUCCIÓN A PYTHON**\n",
        "\n",
        "DIPLOMADO EN GOBIERNO Y ANALITICA DE DATOS\n",
        "\n",
        "FUNDACION UNIVERSITARIA CAFAM\n",
        "\n",
        "DOCENTE: NICOLAS MOJICA GOMEZ\n",
        "\n",
        "ESTUDIANTE: JUAN SEBASTIAN ALBARRACIN\n",
        "\n",
        "\n",
        "\n",
        "---\n",
        "\n"
      ],
      "metadata": {
        "id": "ddhK70rDsBq9"
      }
    },
    {
      "cell_type": "markdown",
      "source": [
        "## 1. Comentario en los códigos\n",
        "\n",
        "Para comentar códigos en python existen diferentes formas de crear comentarios, esto nos permite comentar nustras secuencias de comandos para su analisis o posterior modificación."
      ],
      "metadata": {
        "id": "DuLlsl8CuPNs"
      }
    },
    {
      "cell_type": "code",
      "execution_count": 4,
      "metadata": {
        "colab": {
          "base_uri": "https://localhost:8080/"
        },
        "id": "ru2vvWHtqMV1",
        "outputId": "649b3a68-e405-41a2-a63b-61cefd016b30"
      },
      "outputs": [
        {
          "output_type": "stream",
          "name": "stdout",
          "text": [
            "Hola Mundo\n"
          ]
        }
      ],
      "source": [
        "#este comentario es de una sola linea\n",
        "#pyton es un programa sencible a las mayusculas y las minusculas\n",
        "\n",
        "print(\"Hola Mundo\")\n",
        "\n",
        "\n",
        "\n",
        "\n",
        "\n",
        "\n"
      ]
    },
    {
      "cell_type": "code",
      "source": [
        "\"\"\"\n",
        "este es un comentario de multiples lineas\n",
        "puede extenderse en varias lineas\n",
        "\"\"\"\n",
        "print(\"hola mundo\")\n"
      ],
      "metadata": {
        "colab": {
          "base_uri": "https://localhost:8080/"
        },
        "id": "laJMNvjSzNl3",
        "outputId": "791a9ac3-9104-482e-e4ce-08c07763d4be"
      },
      "execution_count": 3,
      "outputs": [
        {
          "output_type": "stream",
          "name": "stdout",
          "text": [
            "hola mundo\n"
          ]
        }
      ]
    },
    {
      "cell_type": "markdown",
      "source": [
        "## 2.variables\n",
        "\n",
        "Una variable es un elemeto de un lenguaje de programacion que tiene asignado un valor determinado"
      ],
      "metadata": {
        "id": "UFbrOMCOwYUF"
      }
    },
    {
      "cell_type": "code",
      "source": [
        "## para crar una varible en pyton se le debe proporcionar un nombre y se le debe asignar un valor usando un =\n",
        "var=\"hola mundo\"\n",
        "print(var)\n",
        "\n",
        "## Las variables pueden cambiar a lo largo de programa en python\n",
        "var=\"Adios mundo\"\n",
        "print(var)\n"
      ],
      "metadata": {
        "colab": {
          "base_uri": "https://localhost:8080/"
        },
        "id": "HuD6pXCBw17i",
        "outputId": "2106b23c-687a-4f2d-ef35-c5fd970581b5"
      },
      "execution_count": 2,
      "outputs": [
        {
          "output_type": "stream",
          "name": "stdout",
          "text": [
            "hola mundo\n",
            "Adios mundo\n"
          ]
        }
      ]
    },
    {
      "cell_type": "code",
      "source": [
        "## Las variables en pyton son sensibles a las minusculas y las mayusculas\n",
        "\n"
      ],
      "metadata": {
        "id": "m7eGOWuEzh48"
      },
      "execution_count": 9,
      "outputs": []
    },
    {
      "cell_type": "markdown",
      "source": [
        "## 3.Tipos de datos\n"
      ],
      "metadata": {
        "id": "QJTH7QiT4rj-"
      }
    },
    {
      "cell_type": "code",
      "source": [
        "# Tipos de datos numericos\n",
        "entero=42\n",
        "# En la mayor parte de lenguajes de programacion los enteros son representados con \"int\"\n"
      ],
      "metadata": {
        "id": "GL00NgHm5SM3"
      },
      "execution_count": 12,
      "outputs": []
    },
    {
      "cell_type": "code",
      "source": [
        "# Tipos de datos flotante\n",
        "flotante=3,14151"
      ],
      "metadata": {
        "id": "bsndMa9Ezh4R"
      },
      "execution_count": 21,
      "outputs": []
    },
    {
      "cell_type": "code",
      "source": [
        "# Conversion de los tipos de datos\n",
        "# Convertir un flotante a un numero entero\n",
        "entero=int(3.14)\n",
        "print(entero)"
      ],
      "metadata": {
        "colab": {
          "base_uri": "https://localhost:8080/"
        },
        "id": "JGskB9lE6HHU",
        "outputId": "d11cae2d-7071-4777-ee33-883095be878b"
      },
      "execution_count": 16,
      "outputs": [
        {
          "output_type": "stream",
          "name": "stdout",
          "text": [
            "3\n"
          ]
        }
      ]
    },
    {
      "cell_type": "code",
      "source": [
        "# Convertir entero a flotante\n",
        "flotante=float(5)\n",
        "print(flotante)"
      ],
      "metadata": {
        "colab": {
          "base_uri": "https://localhost:8080/"
        },
        "id": "zaPmgzd70RVp",
        "outputId": "c84de75c-72fc-4093-9aa9-cf5fd35e9e2a"
      },
      "execution_count": 15,
      "outputs": [
        {
          "output_type": "stream",
          "name": "stdout",
          "text": [
            "5.0\n"
          ]
        }
      ]
    },
    {
      "cell_type": "markdown",
      "source": [
        "## Operadores aritmeticos\n",
        "Los operadores matematicos se utilizan para realizar operaciones comunes como la adicion, la sustraccion y multiplicacion etc.\n"
      ],
      "metadata": {
        "id": "QJyTFg5r7z48"
      }
    },
    {
      "cell_type": "code",
      "source": [
        "# Suma\n",
        "a=10\n",
        "b=5\n",
        "print(a+b)"
      ],
      "metadata": {
        "colab": {
          "base_uri": "https://localhost:8080/"
        },
        "id": "DUovkxGZ8Ndb",
        "outputId": "b2a7becf-b899-4dae-b4c0-33470b315971"
      },
      "execution_count": 17,
      "outputs": [
        {
          "output_type": "stream",
          "name": "stdout",
          "text": [
            "15\n"
          ]
        }
      ]
    },
    {
      "cell_type": "code",
      "source": [
        "# Resta\n",
        "c=a-b\n",
        "print(c)"
      ],
      "metadata": {
        "colab": {
          "base_uri": "https://localhost:8080/"
        },
        "id": "ZtPgvRrd8YQ0",
        "outputId": "1f7b1a71-e94a-4803-fac2-f15e5294eabb"
      },
      "execution_count": 20,
      "outputs": [
        {
          "output_type": "stream",
          "name": "stdout",
          "text": [
            "5\n"
          ]
        }
      ]
    },
    {
      "cell_type": "code",
      "source": [
        "# Multiplicacion\n",
        "d=a*b\n",
        "print(d)"
      ],
      "metadata": {
        "colab": {
          "base_uri": "https://localhost:8080/"
        },
        "id": "nziAwRM28jET",
        "outputId": "18ba7bc7-8ce1-4e9b-f9da-472faf165a0e"
      },
      "execution_count": 22,
      "outputs": [
        {
          "output_type": "stream",
          "name": "stdout",
          "text": [
            "50\n"
          ]
        }
      ]
    },
    {
      "cell_type": "code",
      "source": [
        "# Division\n",
        "e=a/b\n",
        "print(e)"
      ],
      "metadata": {
        "colab": {
          "base_uri": "https://localhost:8080/"
        },
        "id": "uV78z2lhA6GB",
        "outputId": "16f33646-8ab9-4ba1-b451-9e056c569935"
      },
      "execution_count": 24,
      "outputs": [
        {
          "output_type": "stream",
          "name": "stdout",
          "text": [
            "2.0\n"
          ]
        }
      ]
    },
    {
      "cell_type": "code",
      "source": [
        "# Division entera\n",
        "print(a/b)"
      ],
      "metadata": {
        "colab": {
          "base_uri": "https://localhost:8080/"
        },
        "id": "lR7RM_Y_BDB6",
        "outputId": "f33af346-1d3d-45b0-c30a-7adb2f5db04d"
      },
      "execution_count": 25,
      "outputs": [
        {
          "output_type": "stream",
          "name": "stdout",
          "text": [
            "2.0\n"
          ]
        }
      ]
    },
    {
      "cell_type": "code",
      "source": [
        "# Modulo , residuo de una operacion\n",
        "print(a % b)"
      ],
      "metadata": {
        "colab": {
          "base_uri": "https://localhost:8080/"
        },
        "id": "ZUoCr8k1BRYf",
        "outputId": "1f09cece-5c94-4cca-d25d-6807c45630b8"
      },
      "execution_count": 26,
      "outputs": [
        {
          "output_type": "stream",
          "name": "stdout",
          "text": [
            "0\n"
          ]
        }
      ]
    },
    {
      "cell_type": "code",
      "source": [
        "# Exponenciacion\n",
        "print(a**b)"
      ],
      "metadata": {
        "colab": {
          "base_uri": "https://localhost:8080/"
        },
        "id": "CJ_bWQxdBi-A",
        "outputId": "9b2a830a-a95a-485b-982b-f463a468968c"
      },
      "execution_count": 28,
      "outputs": [
        {
          "output_type": "stream",
          "name": "stdout",
          "text": [
            "100000\n"
          ]
        }
      ]
    },
    {
      "cell_type": "code",
      "source": [
        "# Asignacion compuesta\n",
        "a+=b\n",
        "print(a)"
      ],
      "metadata": {
        "colab": {
          "base_uri": "https://localhost:8080/"
        },
        "id": "h8OzZZDQBqMZ",
        "outputId": "d5cede37-2fc7-49b5-9413-e3818aecf4fd"
      },
      "execution_count": 29,
      "outputs": [
        {
          "output_type": "stream",
          "name": "stdout",
          "text": [
            "15\n"
          ]
        }
      ]
    },
    {
      "cell_type": "code",
      "source": [
        "print(a)"
      ],
      "metadata": {
        "colab": {
          "base_uri": "https://localhost:8080/"
        },
        "id": "c1by5YWWB5oV",
        "outputId": "8e7c778e-dd80-4f4c-a2e6-782270ea72f1"
      },
      "execution_count": 30,
      "outputs": [
        {
          "output_type": "stream",
          "name": "stdout",
          "text": [
            "15\n"
          ]
        }
      ]
    },
    {
      "cell_type": "code",
      "source": [
        "a-=b\n",
        "print(a)"
      ],
      "metadata": {
        "colab": {
          "base_uri": "https://localhost:8080/"
        },
        "id": "ARGlu7BRCOR7",
        "outputId": "0bb42b04-44d8-4862-bf52-97ded24547b9"
      },
      "execution_count": 32,
      "outputs": [
        {
          "output_type": "stream",
          "name": "stdout",
          "text": [
            "5\n"
          ]
        }
      ]
    },
    {
      "cell_type": "code",
      "source": [
        "# Redondeo\n",
        "var4=3.1410\n",
        "print(round(var4,2))"
      ],
      "metadata": {
        "colab": {
          "base_uri": "https://localhost:8080/"
        },
        "id": "qWKoZYxcCelq",
        "outputId": "eba63003-f73f-4cf5-d4af-17363c48984e"
      },
      "execution_count": 36,
      "outputs": [
        {
          "output_type": "stream",
          "name": "stdout",
          "text": [
            "3.14\n"
          ]
        }
      ]
    },
    {
      "cell_type": "code",
      "source": [],
      "metadata": {
        "id": "GQoxMVamDTGw"
      },
      "execution_count": null,
      "outputs": []
    }
  ]
}