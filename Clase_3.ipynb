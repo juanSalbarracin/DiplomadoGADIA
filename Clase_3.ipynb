{
  "nbformat": 4,
  "nbformat_minor": 0,
  "metadata": {
    "colab": {
      "provenance": [],
      "authorship_tag": "ABX9TyODMiIUN44L/xJrSwld1OeF",
      "include_colab_link": true
    },
    "kernelspec": {
      "name": "python3",
      "display_name": "Python 3"
    },
    "language_info": {
      "name": "python"
    }
  },
  "cells": [
    {
      "cell_type": "markdown",
      "metadata": {
        "id": "view-in-github",
        "colab_type": "text"
      },
      "source": [
        "<a href=\"https://colab.research.google.com/github/juanSalbarracin/DiplomadoGADIA/blob/main/Clase_3.ipynb\" target=\"_parent\"><img src=\"https://colab.research.google.com/assets/colab-badge.svg\" alt=\"Open In Colab\"/></a>"
      ]
    },
    {
      "cell_type": "markdown",
      "source": [
        "**INTRODUCCIÓN A PYTHON**\n",
        "\n",
        "DIPLOMADO EN GOBIERNO Y ANALITICA DE DATOS\n",
        "\n",
        "FUNDACION UNIVERSITARIA CAFAM\n",
        "\n",
        "DOCENTE: NICOLAS MOJICA GOMEZ\n",
        "\n",
        "ESTUDIANTE: JUAN SEBASTIAN ALBARRACIN\n",
        "\n",
        "\n",
        "\n",
        "---\n",
        "\n"
      ],
      "metadata": {
        "id": "ddhK70rDsBq9"
      }
    },
    {
      "cell_type": "markdown",
      "source": [
        "## 1. Comentario en los códigos\n",
        "\n",
        "Para comentar códigos en python existen diferentes formas de crear comentarios, esto nos permite comentar nustras secuencias de comandos para su analisis o posterior modificación."
      ],
      "metadata": {
        "id": "DuLlsl8CuPNs"
      }
    },
    {
      "cell_type": "code",
      "execution_count": null,
      "metadata": {
        "colab": {
          "base_uri": "https://localhost:8080/"
        },
        "id": "ru2vvWHtqMV1",
        "outputId": "649b3a68-e405-41a2-a63b-61cefd016b30"
      },
      "outputs": [
        {
          "output_type": "stream",
          "name": "stdout",
          "text": [
            "Hola Mundo\n"
          ]
        }
      ],
      "source": [
        "#este comentario es de una sola linea\n",
        "#pyton es un programa sencible a las mayusculas y las minusculas\n",
        "\n",
        "print(\"Hola Mundo\")\n",
        "\n",
        "\n",
        "\n",
        "\n",
        "\n",
        "\n"
      ]
    },
    {
      "cell_type": "code",
      "source": [
        "\"\"\"\n",
        "este es un comentario de multiples lineas\n",
        "puede extenderse en varias lineas\n",
        "\"\"\"\n",
        "print(\"hola mundo\")\n"
      ],
      "metadata": {
        "colab": {
          "base_uri": "https://localhost:8080/"
        },
        "id": "laJMNvjSzNl3",
        "outputId": "791a9ac3-9104-482e-e4ce-08c07763d4be"
      },
      "execution_count": null,
      "outputs": [
        {
          "output_type": "stream",
          "name": "stdout",
          "text": [
            "hola mundo\n"
          ]
        }
      ]
    },
    {
      "cell_type": "markdown",
      "source": [
        "## 2.variables\n",
        "\n",
        "Una variable es un elemeto de un lenguaje de programacion que tiene asignado un valor determinado"
      ],
      "metadata": {
        "id": "UFbrOMCOwYUF"
      }
    },
    {
      "cell_type": "code",
      "source": [
        "## para crar una varible en pyton se le debe proporcionar un nombre y se le debe asignar un valor usando un =\n",
        "var=\"hola mundo\"\n",
        "print(var)\n",
        "\n",
        "## Las variables pueden cambiar a lo largo de programa en python\n",
        "var=\"Adios mundo\"\n",
        "print(var)\n"
      ],
      "metadata": {
        "colab": {
          "base_uri": "https://localhost:8080/"
        },
        "id": "HuD6pXCBw17i",
        "outputId": "2106b23c-687a-4f2d-ef35-c5fd970581b5"
      },
      "execution_count": null,
      "outputs": [
        {
          "output_type": "stream",
          "name": "stdout",
          "text": [
            "hola mundo\n",
            "Adios mundo\n"
          ]
        }
      ]
    },
    {
      "cell_type": "code",
      "source": [
        "## Las variables en pyton son sensibles a las minusculas y las mayusculas\n",
        "\n"
      ],
      "metadata": {
        "id": "m7eGOWuEzh48"
      },
      "execution_count": null,
      "outputs": []
    },
    {
      "cell_type": "markdown",
      "source": [
        "## 3.Tipos de datos\n"
      ],
      "metadata": {
        "id": "QJTH7QiT4rj-"
      }
    },
    {
      "cell_type": "code",
      "source": [
        "# Tipos de datos numericos\n",
        "entero=42\n",
        "# En la mayor parte de lenguajes de programacion los enteros son representados con \"int\"\n"
      ],
      "metadata": {
        "id": "GL00NgHm5SM3"
      },
      "execution_count": null,
      "outputs": []
    },
    {
      "cell_type": "code",
      "source": [
        "# Tipos de datos flotante\n",
        "flotante=3,14151"
      ],
      "metadata": {
        "id": "bsndMa9Ezh4R"
      },
      "execution_count": null,
      "outputs": []
    },
    {
      "cell_type": "code",
      "source": [
        "# Conversion de los tipos de datos\n",
        "# Convertir un flotante a un numero entero\n",
        "entero=int(3.14)\n",
        "print(entero)"
      ],
      "metadata": {
        "colab": {
          "base_uri": "https://localhost:8080/"
        },
        "id": "JGskB9lE6HHU",
        "outputId": "d11cae2d-7071-4777-ee33-883095be878b"
      },
      "execution_count": null,
      "outputs": [
        {
          "output_type": "stream",
          "name": "stdout",
          "text": [
            "3\n"
          ]
        }
      ]
    },
    {
      "cell_type": "code",
      "source": [
        "# Convertir entero a flotante\n",
        "flotante=float(5)\n",
        "print(flotante)"
      ],
      "metadata": {
        "colab": {
          "base_uri": "https://localhost:8080/"
        },
        "id": "zaPmgzd70RVp",
        "outputId": "c84de75c-72fc-4093-9aa9-cf5fd35e9e2a"
      },
      "execution_count": null,
      "outputs": [
        {
          "output_type": "stream",
          "name": "stdout",
          "text": [
            "5.0\n"
          ]
        }
      ]
    },
    {
      "cell_type": "markdown",
      "source": [
        "## Operadores aritmeticos\n",
        "Los operadores matematicos se utilizan para realizar operaciones comunes como la adicion, la sustraccion y multiplicacion etc.\n"
      ],
      "metadata": {
        "id": "QJyTFg5r7z48"
      }
    },
    {
      "cell_type": "code",
      "source": [
        "# Suma\n",
        "a=10\n",
        "b=5\n",
        "print(a+b)"
      ],
      "metadata": {
        "colab": {
          "base_uri": "https://localhost:8080/"
        },
        "id": "DUovkxGZ8Ndb",
        "outputId": "b2a7becf-b899-4dae-b4c0-33470b315971"
      },
      "execution_count": null,
      "outputs": [
        {
          "output_type": "stream",
          "name": "stdout",
          "text": [
            "15\n"
          ]
        }
      ]
    },
    {
      "cell_type": "code",
      "source": [
        "# Resta\n",
        "c=a-b\n",
        "print(c)"
      ],
      "metadata": {
        "colab": {
          "base_uri": "https://localhost:8080/"
        },
        "id": "ZtPgvRrd8YQ0",
        "outputId": "1f7b1a71-e94a-4803-fac2-f15e5294eabb"
      },
      "execution_count": null,
      "outputs": [
        {
          "output_type": "stream",
          "name": "stdout",
          "text": [
            "5\n"
          ]
        }
      ]
    },
    {
      "cell_type": "code",
      "source": [
        "# Multiplicacion\n",
        "d=a*b\n",
        "print(d)"
      ],
      "metadata": {
        "colab": {
          "base_uri": "https://localhost:8080/"
        },
        "id": "nziAwRM28jET",
        "outputId": "18ba7bc7-8ce1-4e9b-f9da-472faf165a0e"
      },
      "execution_count": null,
      "outputs": [
        {
          "output_type": "stream",
          "name": "stdout",
          "text": [
            "50\n"
          ]
        }
      ]
    },
    {
      "cell_type": "code",
      "source": [
        "# Division\n",
        "e=a/b\n",
        "print(e)"
      ],
      "metadata": {
        "colab": {
          "base_uri": "https://localhost:8080/"
        },
        "id": "uV78z2lhA6GB",
        "outputId": "16f33646-8ab9-4ba1-b451-9e056c569935"
      },
      "execution_count": null,
      "outputs": [
        {
          "output_type": "stream",
          "name": "stdout",
          "text": [
            "2.0\n"
          ]
        }
      ]
    },
    {
      "cell_type": "code",
      "source": [
        "# Division entera\n",
        "print(a/b)"
      ],
      "metadata": {
        "colab": {
          "base_uri": "https://localhost:8080/"
        },
        "id": "lR7RM_Y_BDB6",
        "outputId": "f33af346-1d3d-45b0-c30a-7adb2f5db04d"
      },
      "execution_count": null,
      "outputs": [
        {
          "output_type": "stream",
          "name": "stdout",
          "text": [
            "2.0\n"
          ]
        }
      ]
    },
    {
      "cell_type": "code",
      "source": [
        "# Modulo , residuo de una operacion\n",
        "print(a % b)"
      ],
      "metadata": {
        "colab": {
          "base_uri": "https://localhost:8080/"
        },
        "id": "ZUoCr8k1BRYf",
        "outputId": "1f09cece-5c94-4cca-d25d-6807c45630b8"
      },
      "execution_count": null,
      "outputs": [
        {
          "output_type": "stream",
          "name": "stdout",
          "text": [
            "0\n"
          ]
        }
      ]
    },
    {
      "cell_type": "code",
      "source": [
        "# Exponenciacion\n",
        "print(a**b)"
      ],
      "metadata": {
        "colab": {
          "base_uri": "https://localhost:8080/"
        },
        "id": "CJ_bWQxdBi-A",
        "outputId": "9b2a830a-a95a-485b-982b-f463a468968c"
      },
      "execution_count": null,
      "outputs": [
        {
          "output_type": "stream",
          "name": "stdout",
          "text": [
            "100000\n"
          ]
        }
      ]
    },
    {
      "cell_type": "code",
      "source": [
        "# Asignacion compuesta\n",
        "a+=b\n",
        "print(a)"
      ],
      "metadata": {
        "colab": {
          "base_uri": "https://localhost:8080/"
        },
        "id": "h8OzZZDQBqMZ",
        "outputId": "d5cede37-2fc7-49b5-9413-e3818aecf4fd"
      },
      "execution_count": null,
      "outputs": [
        {
          "output_type": "stream",
          "name": "stdout",
          "text": [
            "15\n"
          ]
        }
      ]
    },
    {
      "cell_type": "code",
      "source": [
        "print(a)"
      ],
      "metadata": {
        "colab": {
          "base_uri": "https://localhost:8080/"
        },
        "id": "c1by5YWWB5oV",
        "outputId": "8e7c778e-dd80-4f4c-a2e6-782270ea72f1"
      },
      "execution_count": null,
      "outputs": [
        {
          "output_type": "stream",
          "name": "stdout",
          "text": [
            "15\n"
          ]
        }
      ]
    },
    {
      "cell_type": "code",
      "source": [
        "a-=b\n",
        "print(a)"
      ],
      "metadata": {
        "colab": {
          "base_uri": "https://localhost:8080/"
        },
        "id": "ARGlu7BRCOR7",
        "outputId": "0bb42b04-44d8-4862-bf52-97ded24547b9"
      },
      "execution_count": null,
      "outputs": [
        {
          "output_type": "stream",
          "name": "stdout",
          "text": [
            "5\n"
          ]
        }
      ]
    },
    {
      "cell_type": "code",
      "source": [
        "# Redondeo\n",
        "var4=3.1410\n",
        "print(round(var4,2))"
      ],
      "metadata": {
        "colab": {
          "base_uri": "https://localhost:8080/"
        },
        "id": "qWKoZYxcCelq",
        "outputId": "eba63003-f73f-4cf5-d4af-17363c48984e"
      },
      "execution_count": null,
      "outputs": [
        {
          "output_type": "stream",
          "name": "stdout",
          "text": [
            "3.14\n"
          ]
        }
      ]
    },
    {
      "cell_type": "code",
      "source": [],
      "metadata": {
        "id": "GQoxMVamDTGw"
      },
      "execution_count": null,
      "outputs": []
    },
    {
      "cell_type": "markdown",
      "source": [
        "## 3.Taller"
      ],
      "metadata": {
        "id": "6njYQ3nZNw98"
      }
    },
    {
      "cell_type": "code",
      "source": [
        "# Punto 1\n",
        "a=10\n",
        "b=3\n",
        "print(a+b)"
      ],
      "metadata": {
        "colab": {
          "base_uri": "https://localhost:8080/"
        },
        "id": "U42NT7EaN4Ir",
        "outputId": "4275afe2-716b-403d-d674-a4c34947b9d5"
      },
      "execution_count": null,
      "outputs": [
        {
          "output_type": "stream",
          "name": "stdout",
          "text": [
            "13\n"
          ]
        }
      ]
    },
    {
      "cell_type": "code",
      "source": [
        "# Punto 2 [Suma Variable]\n",
        "a=10\n",
        "b=3\n",
        "suma= a+b\n",
        "print(suma)"
      ],
      "metadata": {
        "colab": {
          "base_uri": "https://localhost:8080/"
        },
        "id": "quKZs1FsOH7u",
        "outputId": "07b75e10-97f4-4bfc-f22e-4aafeda392b1"
      },
      "execution_count": null,
      "outputs": [
        {
          "output_type": "stream",
          "name": "stdout",
          "text": [
            "13\n"
          ]
        }
      ]
    },
    {
      "cell_type": "code",
      "source": [
        "# Punto 3 [Resta variable]\n",
        "a=10\n",
        "b=3\n",
        "resta= a-b\n",
        "print(resta)"
      ],
      "metadata": {
        "colab": {
          "base_uri": "https://localhost:8080/"
        },
        "id": "d193TvrxOltP",
        "outputId": "ad4708ae-3e85-4d2e-f333-7c03739863d8"
      },
      "execution_count": null,
      "outputs": [
        {
          "output_type": "stream",
          "name": "stdout",
          "text": [
            "7\n"
          ]
        }
      ]
    },
    {
      "cell_type": "code",
      "source": [
        "# Punto 4 [Multiplicacion variable]\n",
        "a=10\n",
        "b=3\n",
        "multiplicacion= a*b\n",
        "print(multiplicacion)"
      ],
      "metadata": {
        "colab": {
          "base_uri": "https://localhost:8080/"
        },
        "id": "FVitRuLBPH-3",
        "outputId": "6c4b337c-2382-48a8-f8c3-2ce9277ec358"
      },
      "execution_count": null,
      "outputs": [
        {
          "output_type": "stream",
          "name": "stdout",
          "text": [
            "30\n"
          ]
        }
      ]
    },
    {
      "cell_type": "code",
      "source": [
        "# Punto 5 [Division variable]\n",
        "a=10\n",
        "b=3\n",
        "division= a/b\n",
        "print(division)"
      ],
      "metadata": {
        "colab": {
          "base_uri": "https://localhost:8080/"
        },
        "id": "fKXoeJtaPdUU",
        "outputId": "6c390978-da14-407f-e433-f00e739ac590"
      },
      "execution_count": null,
      "outputs": [
        {
          "output_type": "stream",
          "name": "stdout",
          "text": [
            "3.3333333333333335\n"
          ]
        }
      ]
    },
    {
      "cell_type": "code",
      "source": [
        "# Punto 6 [Modulo variable]\n",
        "a=10\n",
        "b=3\n",
        "modulo=(a%b)\n",
        "print(modulo)"
      ],
      "metadata": {
        "colab": {
          "base_uri": "https://localhost:8080/"
        },
        "id": "aahmwjDeRae6",
        "outputId": "8eae2ccc-f7dd-4489-835a-6cc609a02fb3"
      },
      "execution_count": null,
      "outputs": [
        {
          "output_type": "stream",
          "name": "stdout",
          "text": [
            "1\n"
          ]
        }
      ]
    },
    {
      "cell_type": "code",
      "source": [
        "# Punto 7 [Variable Potencia]\n",
        "a=10\n",
        "b=3\n",
        "potencia=(a**b)\n",
        "print(potencia)"
      ],
      "metadata": {
        "colab": {
          "base_uri": "https://localhost:8080/"
        },
        "id": "zCNPB6uLR9WG",
        "outputId": "fda69524-1ce5-4b2d-940c-f2122ef9dab7"
      },
      "execution_count": null,
      "outputs": [
        {
          "output_type": "stream",
          "name": "stdout",
          "text": [
            "1000\n"
          ]
        }
      ]
    },
    {
      "cell_type": "code",
      "source": [
        "# Punto 8 [Division Entera]\n",
        "division_entera= a/b\n",
        "print(division)"
      ],
      "metadata": {
        "colab": {
          "base_uri": "https://localhost:8080/"
        },
        "id": "F0Y6PCFZSxNE",
        "outputId": "21a2b6e8-b0d0-4091-99d7-f81c6178be8e"
      },
      "execution_count": null,
      "outputs": [
        {
          "output_type": "stream",
          "name": "stdout",
          "text": [
            "3.3333333333333335\n"
          ]
        }
      ]
    },
    {
      "cell_type": "markdown",
      "source": [
        "## 5 .Texto o valor String"
      ],
      "metadata": {
        "id": "oM7lDy_zog7-"
      }
    },
    {
      "cell_type": "code",
      "source": [
        "# En python los valores de cadenas se identifican a traves de \"STR\""
      ],
      "metadata": {
        "id": "E4yKWW5zoQJz"
      },
      "execution_count": null,
      "outputs": []
    },
    {
      "cell_type": "code",
      "source": [
        "cadena_simple=\"hola mundo\"\n",
        "cadena_doble=\"hola, mundo\"\n",
        "cadena_multiple=\"\"\"esta es\n",
        "una cadena que ocupa varias lineas\"\"\"\n"
      ],
      "metadata": {
        "id": "fHW3DvbQouU2"
      },
      "execution_count": null,
      "outputs": []
    },
    {
      "cell_type": "code",
      "source": [
        "#Operaciones basicas de cadenas\n",
        "#la concatenacion\n",
        "saludo=\"hola\"\n",
        "nombre=\"mundo\"\n",
        "mensaje=saludo+\",\"+nombre\n",
        "print(mensaje)"
      ],
      "metadata": {
        "colab": {
          "base_uri": "https://localhost:8080/"
        },
        "id": "8FtSLz73pwEp",
        "outputId": "2400c846-379a-4b03-9fc2-34147c4163c2"
      },
      "execution_count": null,
      "outputs": [
        {
          "output_type": "stream",
          "name": "stdout",
          "text": [
            "hola,mundo\n"
          ]
        }
      ]
    },
    {
      "cell_type": "code",
      "source": [
        "#la repeticion\n",
        "repetir=\"hola\"*3\n",
        "print(repetir)"
      ],
      "metadata": {
        "colab": {
          "base_uri": "https://localhost:8080/"
        },
        "id": "yoWK_GcSqNBl",
        "outputId": "eb506876-7b96-4bf4-af18-1f6083855bf6"
      },
      "execution_count": null,
      "outputs": [
        {
          "output_type": "stream",
          "name": "stdout",
          "text": [
            "holaholahola\n"
          ]
        }
      ]
    },
    {
      "cell_type": "code",
      "source": [
        "#la indexacion : acceder a caracteres individuales usando indices.\n",
        "primer_caracter=mensaje[0]\n",
        "print(primer_caracter)"
      ],
      "metadata": {
        "colab": {
          "base_uri": "https://localhost:8080/"
        },
        "id": "ZdyTJtYLqXqE",
        "outputId": "259253df-9860-4db6-d445-3e3de62e4444"
      },
      "execution_count": null,
      "outputs": [
        {
          "output_type": "stream",
          "name": "stdout",
          "text": [
            "h\n"
          ]
        }
      ]
    },
    {
      "cell_type": "code",
      "source": [
        "#slicing: obtiene subcadenas usando una notacion de rango\n",
        "#obtener la palabra \"hola\" de la variable mensaje\n",
        "sub_cadena=mensaje[0:4]\n",
        "print(sub_cadena)"
      ],
      "metadata": {
        "colab": {
          "base_uri": "https://localhost:8080/"
        },
        "id": "mcsqEQ04qslE",
        "outputId": "9424f14f-67bd-4208-cde5-5ceef158a7b8"
      },
      "execution_count": null,
      "outputs": [
        {
          "output_type": "stream",
          "name": "stdout",
          "text": [
            "hola\n"
          ]
        }
      ]
    },
    {
      "cell_type": "code",
      "source": [
        "cadena=\"python es genial\"\n",
        "#metodos de cadenas\n",
        "#MAYUSCULAS\n",
        "print(cadena.upper())\n",
        "#minusculas\n",
        "print(cadena.lower())\n",
        "#tipo titulo\n",
        "print(cadena.strip())\n",
        "#remplazo de caracteres\n",
        "print(cadena.replace(\"genial\",\"increible\"))\n",
        "#separacion de cadenas\n",
        "print(cadena.split(\" \"))\n",
        "#union de cadenas\n",
        "print(\",\".join([\"python es genial\"]))\n"
      ],
      "metadata": {
        "colab": {
          "base_uri": "https://localhost:8080/"
        },
        "id": "UFT6hd-vrWMe",
        "outputId": "9b66f885-6da9-4dce-bdd0-81a3379d67cf"
      },
      "execution_count": null,
      "outputs": [
        {
          "output_type": "stream",
          "name": "stdout",
          "text": [
            "PYTHON ES GENIAL\n",
            "python es genial\n",
            "python es genial\n",
            "python es increible\n",
            "['python', 'es', 'genial']\n",
            "python es genial\n"
          ]
        }
      ]
    },
    {
      "cell_type": "markdown",
      "source": [
        "## Estructuras de datos"
      ],
      "metadata": {
        "id": "mHBSj1b9y3rA"
      }
    },
    {
      "cell_type": "markdown",
      "source": [
        "![Captura de pantalla 2025-01-24 185821.png](data:image/png;base64,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)"
      ],
      "metadata": {
        "id": "oFlPkHeGy-zp"
      }
    },
    {
      "cell_type": "code",
      "source": [
        "#listas:\n",
        "\"\"\"Las listas en Python son una de las estructuras de datos más utilizadas\n",
        "debido a su flexibilidad y capacidad para almacenar diferentes tipos de datos. Aquí te explico en detalle cómo funcionan las listas y cómo puedes utilizarlas\"\"\"\n",
        "\n"
      ],
      "metadata": {
        "id": "wMJTkDHQzL3X"
      },
      "execution_count": null,
      "outputs": []
    },
    {
      "cell_type": "code",
      "source": [
        "# Creando una lista Basica\n",
        "mi_lista=[]\n",
        "\n",
        "#crear lista con elementos\n",
        "mi_lista=[1,2,3,\"cuatro\",5.0,True]\n",
        "\n",
        "#accediendo a elementos de la lista\n",
        "mi_lista = [10, 20, 30, 40, 50]\n",
        "\n",
        "#acceder al tercer elemento\n",
        "print(mi_lista[2])\n",
        "\n",
        "#accder al ultimo elemto\n",
        "print(mi_lista[-1])\n"
      ],
      "metadata": {
        "colab": {
          "base_uri": "https://localhost:8080/"
        },
        "id": "MnVa0G8Os1az",
        "outputId": "2fc62f48-87fc-4e7c-d8e1-59c357f1d725"
      },
      "execution_count": null,
      "outputs": [
        {
          "output_type": "stream",
          "name": "stdout",
          "text": [
            "30\n",
            "50\n"
          ]
        }
      ]
    },
    {
      "cell_type": "code",
      "source": [
        "# Modificaciones de lista\n",
        "# Cambiar en mi lista el 30 por un 1\n",
        "mi_lista[2]=1\n",
        "print(mi_lista)"
      ],
      "metadata": {
        "colab": {
          "base_uri": "https://localhost:8080/"
        },
        "id": "_xEH8bHI1HZ_",
        "outputId": "7526a517-26ea-44ca-903e-5e6475d9ffde"
      },
      "execution_count": null,
      "outputs": [
        {
          "output_type": "stream",
          "name": "stdout",
          "text": [
            "[10, 20, 1, 40, 50]\n"
          ]
        }
      ]
    },
    {
      "cell_type": "code",
      "source": [
        "# agregar nuevos elementos a una lista\n",
        "mi_lista=[1,2,3]\n",
        "\n",
        "#agregar un elemento al final de la lista\n",
        "mi_lista.append(4)\n",
        "\n",
        "print(mi_lista)"
      ],
      "metadata": {
        "colab": {
          "base_uri": "https://localhost:8080/"
        },
        "id": "7Kq8RZCk4lNR",
        "outputId": "21dacd83-ee1a-4158-af4b-881bd344c664"
      },
      "execution_count": null,
      "outputs": [
        {
          "output_type": "stream",
          "name": "stdout",
          "text": [
            "[1, 2, 3, 4]\n"
          ]
        }
      ]
    },
    {
      "cell_type": "code",
      "source": [
        "#Insertar un elemento en la lista en una posicion especifica\n",
        "mi_lista.insert(1,1.5)\n",
        "print(mi_lista)"
      ],
      "metadata": {
        "colab": {
          "base_uri": "https://localhost:8080/"
        },
        "id": "ev_oRu435gei",
        "outputId": "b421bbb1-e5ce-44f3-c9f8-93b91d457cf9"
      },
      "execution_count": null,
      "outputs": [
        {
          "output_type": "stream",
          "name": "stdout",
          "text": [
            "[1, 1.5, 2, 3, 4]\n"
          ]
        }
      ]
    },
    {
      "cell_type": "code",
      "source": [
        "# Agregar varios elementos a una lista\n",
        "mi_lista.extend([5,6])\n",
        "print(mi_lista)"
      ],
      "metadata": {
        "colab": {
          "base_uri": "https://localhost:8080/"
        },
        "id": "H3SQRaSB549j",
        "outputId": "c70f176a-33a5-4dec-f7d5-aa49b2602cb5"
      },
      "execution_count": null,
      "outputs": [
        {
          "output_type": "stream",
          "name": "stdout",
          "text": [
            "[1, 1.5, 2, 3, 4, 5, 6]\n"
          ]
        }
      ]
    },
    {
      "cell_type": "code",
      "source": [
        "#Eliminar elementos de las listas\n",
        "#mi_lista.remove(1)\n",
        "print(mi_lista)"
      ],
      "metadata": {
        "colab": {
          "base_uri": "https://localhost:8080/"
        },
        "id": "JPpJUtf16JNr",
        "outputId": "4af41422-203e-47ef-ede1-810070ba0c79"
      },
      "execution_count": null,
      "outputs": [
        {
          "output_type": "stream",
          "name": "stdout",
          "text": [
            "[1.5, 2, 3, 4, 5, 6]\n"
          ]
        }
      ]
    },
    {
      "cell_type": "code",
      "source": [
        "#Eliminacion de elementos por una posicion especifica\n",
        "del mi_lista[0]\n",
        "print(mi_lista)"
      ],
      "metadata": {
        "colab": {
          "base_uri": "https://localhost:8080/"
        },
        "id": "s1zxZTUU6ltb",
        "outputId": "4d21ae71-60b0-4c2e-8a09-858d9bf1e80d"
      },
      "execution_count": null,
      "outputs": [
        {
          "output_type": "stream",
          "name": "stdout",
          "text": [
            "[3, 4, 5, 6]\n"
          ]
        }
      ]
    },
    {
      "cell_type": "code",
      "source": [],
      "metadata": {
        "id": "twuBzIz08n_A"
      },
      "execution_count": null,
      "outputs": []
    },
    {
      "cell_type": "markdown",
      "source": [
        "## DICCIONARIO\n",
        "\n"
      ],
      "metadata": {
        "id": "M3R5Db0T9zh8"
      }
    },
    {
      "cell_type": "code",
      "source": [
        "#Diccionarios:\n",
        "\"\"\"En Python, los diccionarios son una estructura de datos muy versátil y útil. Son colecciones no ordenadas de pares clave-valor, donde cada clave es única y se asocia a un valor. Aquí te explico los aspectos básicos y algunas características avanzadas:\n",
        " \"\"\""
      ],
      "metadata": {
        "colab": {
          "base_uri": "https://localhost:8080/",
          "height": 53
        },
        "id": "Enb2olqyAefm",
        "outputId": "b53ff73c-37d3-4489-c4a3-fd4ba385ad6e"
      },
      "execution_count": null,
      "outputs": [
        {
          "output_type": "execute_result",
          "data": {
            "text/plain": [
              "'En Python, los diccionarios son una estructura de datos muy versátil y útil. Son colecciones no ordenadas de pares clave-valor, donde cada clave es única y se asocia a un valor. Aquí te explico los aspectos básicos y algunas características avanzadas:\\n '"
            ],
            "application/vnd.google.colaboratory.intrinsic+json": {
              "type": "string"
            }
          },
          "metadata": {},
          "execution_count": 43
        }
      ]
    },
    {
      "cell_type": "code",
      "source": [
        "mi_diccionario={\n",
        "    \"nombre\":\"ana\",\n",
        "    \"edad\":30,\n",
        "    \"ciudad\":\"Bogota\"\n",
        "\n",
        "}"
      ],
      "metadata": {
        "id": "URisFRi4Awy4"
      },
      "execution_count": null,
      "outputs": []
    },
    {
      "cell_type": "code",
      "source": [
        "#agregar elementos a un diciionario vacio\n",
        "inventario={}\n",
        "inventario[\"manzanas\"]=50\n",
        "inventario[\"naranjas\"]=30\n",
        "\n",
        "print(inventario)"
      ],
      "metadata": {
        "colab": {
          "base_uri": "https://localhost:8080/"
        },
        "id": "P0FdtNzlCRRi",
        "outputId": "8b400c83-148c-42b4-cdc3-162ad2efa757"
      },
      "execution_count": null,
      "outputs": [
        {
          "output_type": "stream",
          "name": "stdout",
          "text": [
            "{'manzanas': 50, 'naranjas': 30}\n"
          ]
        }
      ]
    },
    {
      "cell_type": "code",
      "source": [
        "#El acceso a los elementos de un diccionario se hace apartir del nombre del elemento\n",
        "print(mi_diccionario[\"edad\"])"
      ],
      "metadata": {
        "colab": {
          "base_uri": "https://localhost:8080/"
        },
        "id": "nveVXbGICwsD",
        "outputId": "43a3af19-778e-48e5-cc6f-9c06a0615951"
      },
      "execution_count": null,
      "outputs": [
        {
          "output_type": "stream",
          "name": "stdout",
          "text": [
            "30\n"
          ]
        }
      ]
    },
    {
      "cell_type": "code",
      "source": [
        "#modificar un elementos de un diccionario\n",
        "mi_diccionario[\"edad\"]=31\n",
        "print(mi_diccionario)"
      ],
      "metadata": {
        "colab": {
          "base_uri": "https://localhost:8080/"
        },
        "id": "E5cJaWLyDJiQ",
        "outputId": "b72ff980-3991-48f3-b9f6-dde3a6cbe566"
      },
      "execution_count": null,
      "outputs": [
        {
          "output_type": "stream",
          "name": "stdout",
          "text": [
            "{'nombre': 'ana', 'edad': 31, 'ciudad': 'Bogota'}\n"
          ]
        }
      ]
    },
    {
      "cell_type": "code",
      "source": [
        "#Eliminar elementos del diccionario\n",
        "del mi_diccionario[\"ciudad\"]\n",
        "print(mi_diccionario)"
      ],
      "metadata": {
        "colab": {
          "base_uri": "https://localhost:8080/"
        },
        "id": "a_5naPtwDX62",
        "outputId": "b0368272-550a-4e94-9147-03120909010a"
      },
      "execution_count": null,
      "outputs": [
        {
          "output_type": "stream",
          "name": "stdout",
          "text": [
            "{'nombre': 'ana', 'edad': 31}\n"
          ]
        }
      ]
    },
    {
      "cell_type": "code",
      "source": [
        "# Punto1:Crea una lista llamada numeros que contenga los numeros del 1 al 5:\n",
        "\n",
        "# Creando una lista Basica\n",
        "mi_lista_numeros=[]\n",
        "\n",
        "#crear lista con elementos\n",
        "mi_lista_numeros=[1,2,3,\"cuatro\",5.0,True]\n",
        "\n",
        "#accediendo a elementos de la lista\n",
        "mi_lista_numeros = [1, 2, 3, 4, 5]\n",
        "\n",
        "#acceder al tercer elemento\n",
        "print(mi_lista_numeros[2])\n",
        "\n",
        "#accder al ultimo elemto\n",
        "print(mi_lista_numeros[-1])\n",
        "\n",
        "\n"
      ],
      "metadata": {
        "colab": {
          "base_uri": "https://localhost:8080/"
        },
        "id": "qqwIIh_1D6ir",
        "outputId": "38247dbb-9da7-40e7-8374-9e3ff347a00d"
      },
      "execution_count": null,
      "outputs": [
        {
          "output_type": "stream",
          "name": "stdout",
          "text": [
            "3\n",
            "5\n"
          ]
        }
      ]
    },
    {
      "cell_type": "code",
      "source": [
        "# añade el numero 6 al final de la lista numeros\n",
        "mi_lista_numeros.append (6)\n",
        "print(mi_lista_numeros)"
      ],
      "metadata": {
        "colab": {
          "base_uri": "https://localhost:8080/"
        },
        "id": "nL0C0K-W_nvk",
        "outputId": "8e8f6d0d-a3c4-4c40-e87c-33bbc599dff9"
      },
      "execution_count": null,
      "outputs": [
        {
          "output_type": "stream",
          "name": "stdout",
          "text": [
            "[1, 2, 3, 4, 5, 6]\n"
          ]
        }
      ]
    },
    {
      "cell_type": "code",
      "source": [
        "#cambia el segundo de la lista numeros 10\n",
        "mi_lista_numeros[2]=10\n",
        "print(mi_lista_numeros)\n"
      ],
      "metadata": {
        "colab": {
          "base_uri": "https://localhost:8080/"
        },
        "id": "WEUjzLMHAY0U",
        "outputId": "d71655f1-16a5-452f-afbe-f10f6013d4ab"
      },
      "execution_count": null,
      "outputs": [
        {
          "output_type": "stream",
          "name": "stdout",
          "text": [
            "[1, 2, 10, 4, 5, 6]\n"
          ]
        }
      ]
    },
    {
      "cell_type": "code",
      "source": [
        "#elimina el cuarto elemtode la lista numeros\n",
        "mi_lista_numeros.remove(4)\n",
        "print(mi_lista_numeros)\n"
      ],
      "metadata": {
        "colab": {
          "base_uri": "https://localhost:8080/"
        },
        "id": "yqMGYDOFAhxN",
        "outputId": "5439027f-8406-4ff1-d5d0-799cc4fdce7d"
      },
      "execution_count": null,
      "outputs": [
        {
          "output_type": "stream",
          "name": "stdout",
          "text": [
            "[1, 2, 10, 5, 6]\n"
          ]
        }
      ]
    },
    {
      "cell_type": "code",
      "source": [
        "#Punto 2 creacion de tuplas"
      ],
      "metadata": {
        "id": "xww4XfeSAqeU"
      },
      "execution_count": null,
      "outputs": []
    },
    {
      "cell_type": "code",
      "source": [
        "# 1 Crea una tupla llamada colores que contenga los colores \"rojo\"\"verde\"\"azul\""
      ],
      "metadata": {
        "id": "zJzb142sAz22"
      },
      "execution_count": null,
      "outputs": []
    },
    {
      "cell_type": "code",
      "source": [
        "# 2 accede al primer elemento de la tupla colores"
      ],
      "metadata": {
        "id": "5SMbYu6iBDcZ"
      },
      "execution_count": null,
      "outputs": []
    },
    {
      "cell_type": "code",
      "source": [
        "# Punto 3 creacion y mofificacion de diccionario"
      ],
      "metadata": {
        "id": "ly0jlg7zBMn_"
      },
      "execution_count": null,
      "outputs": []
    },
    {
      "cell_type": "code",
      "source": [
        "# 1.Crea un diccionario llamado persona con las claves nombre, edad y ciudad\n",
        "mi_persona={\n",
        "    \"nombre\":\"juan\",\n",
        "    \"edad\": 28,\n",
        "    \"ciudad\":\"medellin\",\n",
        "    \"profesion\":\"ingeniero\"\n",
        "}"
      ],
      "metadata": {
        "id": "EgYUvWtmBUUp"
      },
      "execution_count": null,
      "outputs": []
    },
    {
      "cell_type": "code",
      "source": [
        "# 2.Cambia el valor de edad a 31\n",
        "mi_diccionario[\"edad\"]=31\n",
        "print(mi_persona)"
      ],
      "metadata": {
        "colab": {
          "base_uri": "https://localhost:8080/"
        },
        "id": "deUIkc9TBlmv",
        "outputId": "1d03d3eb-0c82-4e29-e7aa-5474fe212b10"
      },
      "execution_count": null,
      "outputs": [
        {
          "output_type": "stream",
          "name": "stdout",
          "text": [
            "{'nombre': 'juan', 'edad': 28, 'ciudad': 'medellin', 'profesion': 'ingeniero'}\n"
          ]
        }
      ]
    },
    {
      "cell_type": "code",
      "source": [
        "# 3.Añade una nueva clave profesion con el valor ingeniero"
      ],
      "metadata": {
        "id": "LUSFcSggBrrR"
      },
      "execution_count": null,
      "outputs": []
    },
    {
      "cell_type": "code",
      "source": [
        "# 4. Elimina la clave ciudad del diccionario persona.\n",
        "del mi_persona[\"ciudad\"]\n",
        "print(mi_persona)\n"
      ],
      "metadata": {
        "colab": {
          "base_uri": "https://localhost:8080/"
        },
        "id": "w37LmKpoB1MC",
        "outputId": "85d6967c-d89e-4cfe-ebb5-b6c080e39ee3"
      },
      "execution_count": null,
      "outputs": [
        {
          "output_type": "stream",
          "name": "stdout",
          "text": [
            "{'nombre': 'juan', 'edad': 28, 'profesion': 'ingeniero'}\n"
          ]
        }
      ]
    },
    {
      "cell_type": "code",
      "source": [],
      "metadata": {
        "id": "jvG9vGrXJnnP"
      },
      "execution_count": null,
      "outputs": []
    }
  ]
}